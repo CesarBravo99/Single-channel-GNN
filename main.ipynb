{
 "cells": [
  {
   "cell_type": "code",
   "execution_count": 2,
   "metadata": {},
   "outputs": [
    {
     "data": {
      "image/svg+xml": [
       "<?xml version=\"1.0\" encoding=\"UTF-8\"?>\n",
       "<!DOCTYPE svg PUBLIC \"-//W3C//DTD SVG 1.1//EN\"\n",
       " \"http://www.w3.org/Graphics/SVG/1.1/DTD/svg11.dtd\">\n",
       "<svg xmlns=\"http://www.w3.org/2000/svg\" version=\"1.1\"\n",
       "     width=\"180mm\" height=\"25mm\"\n",
       "     viewBox=\"0 0 16 1\" preserveAspectRatio=\"none\"\n",
       "     shape-rendering=\"crispEdges\" stroke=\"none\">\n",
       "<rect width=\".91\" height=\".96\" x=\"0\" y=\"0\" fill=\"#009AFA\" />\n",
       "<rect width=\".91\" height=\".96\" x=\"1\" y=\"0\" fill=\"#E36F47\" />\n",
       "<rect width=\".91\" height=\".96\" x=\"2\" y=\"0\" fill=\"#3EA44E\" />\n",
       "<rect width=\".91\" height=\".96\" x=\"3\" y=\"0\" fill=\"#C371D2\" />\n",
       "<rect width=\".91\" height=\".96\" x=\"4\" y=\"0\" fill=\"#AC8E18\" />\n",
       "<rect width=\".91\" height=\".96\" x=\"5\" y=\"0\" fill=\"#00AAAE\" />\n",
       "<rect width=\".91\" height=\".96\" x=\"6\" y=\"0\" fill=\"#ED5E93\" />\n",
       "<rect width=\".91\" height=\".96\" x=\"7\" y=\"0\" fill=\"#C68225\" />\n",
       "<rect width=\".91\" height=\".96\" x=\"8\" y=\"0\" fill=\"#00A98D\" />\n",
       "<rect width=\".91\" height=\".96\" x=\"9\" y=\"0\" fill=\"#8E971E\" />\n",
       "<rect width=\".91\" height=\".96\" x=\"10\" y=\"0\" fill=\"#00A9CC\" />\n",
       "<rect width=\".91\" height=\".96\" x=\"11\" y=\"0\" fill=\"#9B7FE9\" />\n",
       "<rect width=\".91\" height=\".96\" x=\"12\" y=\"0\" fill=\"#618DF6\" />\n",
       "<rect width=\".91\" height=\".96\" x=\"13\" y=\"0\" fill=\"#F06073\" />\n",
       "<rect width=\".91\" height=\".96\" x=\"14\" y=\"0\" fill=\"#DD65B6\" />\n",
       "<rect width=\".91\" height=\".96\" x=\"15\" y=\"0\" fill=\"#6C9F33\" />\n",
       "</svg>"
      ],
      "text/plain": [
       "ColorPalette(ColorSchemes.ColorScheme{Vector{RGB{Float64}}, String, String}(RGB{Float64}[RGB{Float64}(0.0,0.6056031611752245,0.9786801175696073), RGB{Float64}(0.8888735002725198,0.43564919034818994,0.2781229361419438), RGB{Float64}(0.2422242978521988,0.6432750931576305,0.3044486515341153), RGB{Float64}(0.7644401754934356,0.4441117794687767,0.8242975359232758), RGB{Float64}(0.6755439572114057,0.5556623322045815,0.09423433626639477), RGB{Float64}(4.821181644776295e-7,0.6657589812923561,0.6809969518707945), RGB{Float64}(0.930767491919665,0.3674771896571412,0.5757699667547829), RGB{Float64}(0.7769816661712932,0.5097431319944513,0.1464252569555497), RGB{Float64}(3.8077343661790943e-7,0.6642678029460116,0.5529508754522481), RGB{Float64}(0.558464964115081,0.5934846564332882,0.11748125233232104), RGB{Float64}(5.947623898072685e-7,0.6608785231434254,0.7981787608414297), RGB{Float64}(0.6096707676128648,0.49918492100827777,0.9117812665042642), RGB{Float64}(0.3800016049820351,0.5510532724353506,0.9665056985227146), RGB{Float64}(0.942181647954218,0.37516423354097583,0.4518168202944593), RGB{Float64}(0.8684020893043971,0.3959893639954845,0.7135147524811879), RGB{Float64}(0.42314674364630817,0.6224954944199981,0.19877060252130468)], \"\", \"\"))"
      ]
     },
     "metadata": {},
     "output_type": "display_data"
    }
   ],
   "source": [
    "using Statistics\n",
    "using DataStructures\n",
    "using NNlib\n",
    "using Graphs\n",
    "using PyCall\n",
    "nx = pyimport(\"networkx\")\n",
    "pyg = pyimport(\"torch_geometric\")\n",
    "include(\"src/weisfeiler_lehman.jl\")\n",
    "include(\"src/mpgnn.jl\")\n",
    "include(\"src/utils.jl\")\n",
    "colors = theme_palette(:default)"
   ]
  },
  {
   "cell_type": "markdown",
   "metadata": {},
   "source": [
    "TO DO\n",
    "- [ ] Experimento 1: Para los sacos, elegir los $p$ para que sea sparse. Elegir N y P para tener 200 - 300 grafos. 2 plots\n",
    "- [ ] Experimento 2: Generar 1 grafo aleatorio N= 100: salto: 5000, con p = 0.01. Para cada grafo, correr gnn con bits variables desde 5-10 y subiendo. Para cada grafo, generar \\gammas y calcular promedio de correctitud + var(). grafico bits/n. erdos renyi. 1 plot\n",
    "- [] Experimento 3: Erdos N=5000. Hacer grafico correctitud / bits. 1plot\n",
    "- [] Experimento 4: Repetir para Cora. 1plot\n",
    "\n",
    "Enviar gráficos y parametros\n"
   ]
  },
  {
   "cell_type": "markdown",
   "metadata": {},
   "source": [
    "## WL and MPGNN basic test"
   ]
  },
  {
   "cell_type": "code",
   "execution_count": 3,
   "metadata": {},
   "outputs": [
    {
     "name": "stdout",
     "output_type": "stream",
     "text": [
      "BigFloat[1.0, 2.0, 1.0, 3.0, 3.0]\n",
      "BigFloat[1.0, 2.0, 1.0, 3.0, 3.0]\n"
     ]
    }
   ],
   "source": [
    "edge_index = [\n",
    "     1 1 1 2 2 3 3 3 4 4 5 5;\n",
    "     2 3 5 1 3 1 2 4 3 5 1 4\n",
    "]\n",
    "x₀ = [\n",
    "     1, 1, 1, 1, 1\n",
    "]\n",
    "γ = 0.1\n",
    "wl_iters, wl_coloring = WeisfeilerLehman(x₀, edge_index)\n",
    "gnn_coloring = MPGNN(x₀, edge_index, γ, 3)\n",
    "\n",
    "println(wl_coloring)\n",
    "println(gnn_coloring)"
   ]
  },
  {
   "cell_type": "markdown",
   "metadata": {},
   "source": [
    "![Alt Text](wl.gif)"
   ]
  },
  {
   "cell_type": "markdown",
   "metadata": {},
   "source": [
    "## 1. Bag of Graphs Experiment\n",
    "### 1.1 Bag of Erdős–Rényi\n",
    "\n",
    "Here, we create an Erdős–Rényi random graph with **n** vertices. Edges are added between pairs of vertices with probability **p**."
   ]
  },
  {
   "cell_type": "code",
   "execution_count": 4,
   "metadata": {},
   "outputs": [
    {
     "data": {
      "text/plain": [
       "\"c:\\\\Users\\\\jacmo\\\\OneDrive - uc.cl\\\\Documentos\\\\cosas de la u\\\\Magister\\\\Single-channel-GNN\\\\results\\\\1.1.erdos_renyi.png\""
      ]
     },
     "metadata": {},
     "output_type": "display_data"
    }
   ],
   "source": [
    "setprecision(BigFloat, 51)\n",
    "γs = sort([rand(BigFloat) for _ in 1:50])\n",
    "lottery_γs = []\n",
    "success_sum = []\n",
    "P = [p for p in 0.05 : 0.01 : 0.1]\n",
    "N = [n for n in 50 : 5 : 100]\n",
    "\n",
    "graphs = [[erdos_renyi(N[j], P[i]) for j in 1:length(N)] for i ∈ 1:length(P)]\n",
    "graphs = [[graphs[i][j][findall(>(0), degree(graphs[i][j]))] for j in 1:length(N)] for i ∈ 1:length(P)]\n",
    "\n",
    "for γ ∈ γs\n",
    "    success_matrix = zeros(length(P), length(N))\n",
    "    for i ∈ 1:length(P)\n",
    "        for j in 1:length(N)\n",
    "            success_matrix[i, j] = WL_vs_GNN(graphs[i][j], γ)\n",
    "        end\n",
    "    end\n",
    "    push!(success_sum, sum(success_matrix))\n",
    "    if sum(success_matrix) == sum(ones(length(P), length(N)))\n",
    "        # println(\"lottery ticket γ: $(γ)\")\n",
    "        push!(lottery_γs, γ) \n",
    "    end\n",
    "end\n",
    "\n",
    "ones_sum = sum(ones(length(P), length(N)))\n",
    "selected_lottery_γs = vcat(lottery_γs[1], vcat(rand(lottery_γs, 3), lottery_γs[end]))\n",
    "plot(γs, [ones_sum for _ ∈ γs], label=\"WL\", dpi=1000)\n",
    "plot!(γs, success_sum, label=\"MPGNN\")\n",
    "scatter!(lottery_γs, [ones_sum for _ ∈ lottery_γs],\n",
    "        mc=colors[3], ms=3, ma=0.5,\n",
    "        label=\"Lottery γs\")\n",
    "scatter!(selected_lottery_γs, [ones_sum for _ ∈ selected_lottery_γs], \n",
    "        series_annotations = text.(selected_lottery_γs, :left, 8, rotation=270), \n",
    "        mc=colors[3], ms=3, ma=0.5,\n",
    "        label=\"\")\n",
    "\n",
    "ylims!(0, 1.1*ones_sum)\n",
    "title!(\"WL vs 1D-MPGNN, Erdős Rényi\")\n",
    "xlabel!(\"γ\")\n",
    "ylabel!(\"successful simulations\")\n",
    "savefig(\"results\\\\1.1.erdos_renyi.png\")"
   ]
  },
  {
   "cell_type": "markdown",
   "metadata": {},
   "source": [
    "### 1.2 Bag of Barabási–Albert\n",
    "\n",
    "Here, we create a Barabási–Albert model random graph with n vertices. It is grown by adding new vertices to an initial graph with k vertices. Each new vertex is attached with k edges to k different vertices already present in the system by preferential attachment. Initial graphs are undirected and consist of isolated vertices by default."
   ]
  },
  {
   "cell_type": "code",
   "execution_count": 10,
   "metadata": {},
   "outputs": [
    {
     "data": {
      "text/plain": [
       "\"c:\\\\Users\\\\jacmo\\\\OneDrive - uc.cl\\\\Documentos\\\\cosas de la u\\\\Magister\\\\Single-channel-GNN\\\\results\\\\1.2.barabasi_albert.png\""
      ]
     },
     "metadata": {},
     "output_type": "display_data"
    }
   ],
   "source": [
    "setprecision(BigFloat, 50)\n",
    "γs = sort([rand(BigFloat) for _ in 1:50])\n",
    "lottery_γs = []\n",
    "success_sum = []\n",
    "K = [k for k in 1 : 5 : 20]\n",
    "N = [n for n in 20 : 10 : 100]\n",
    "\n",
    "graphs = [[barabasi_albert(N[j], K[i]) for j in 1:length(N)] for i ∈ 1:length(K)]\n",
    "graphs = [[graphs[i][j][findall(>(0), degree(graphs[i][j]))] for j in 1:length(N)] for i ∈ 1:length(K)]\n",
    "\n",
    "for γ ∈ γs\n",
    "    success_matrix = zeros(length(K), length(N))\n",
    "    for i ∈ 1:length(K)\n",
    "        for j in 1:length(N)\n",
    "            success_matrix[i, j] = WL_vs_GNN(graphs[i][j], γ)\n",
    "        end\n",
    "    end\n",
    "    push!(success_sum, sum(success_matrix))\n",
    "    if sum(success_matrix) == sum(ones(length(K), length(N)))\n",
    "        # println(\"lottery ticket γ: $(γ)\")\n",
    "        push!(lottery_γs, γ) \n",
    "    end\n",
    "end\n",
    "\n",
    "ones_sum = sum(ones(length(K), length(N)))\n",
    "selected_lottery_γs = vcat(lottery_γs[1], vcat(rand(lottery_γs, 3), lottery_γs[end]))\n",
    "plot(γs, [ones_sum for _ ∈ γs], label=\"WL\", dpi=1000)\n",
    "plot!(γs, success_sum, label=\"MPGNN\")\n",
    "scatter!(lottery_γs, [ones_sum for _ ∈ lottery_γs],\n",
    "        mc=colors[3], ms=3, ma=0.5,\n",
    "        label=\"Lottery γs\")\n",
    "scatter!(selected_lottery_γs, [ones_sum for _ ∈ selected_lottery_γs], \n",
    "        series_annotations = text.(selected_lottery_γs, :left, 8, rotation=270), \n",
    "        mc=colors[3], ms=3, ma=0.5,\n",
    "        label=\"\")\n",
    "\n",
    "ylims!(0, 1.1*ones_sum)\n",
    "title!(\"WL vs 1D-MPGNN, Barabási Albert\")\n",
    "xlabel!(\"γ\")\n",
    "ylabel!(\"successful simulations\")\n",
    "savefig(\"results\\\\1.2.barabasi_albert.png\")"
   ]
  },
  {
   "cell_type": "markdown",
   "metadata": {},
   "source": [
    "## 2. Successful Bits Experiment \n",
    "\n",
    "\n",
    "Generar 1 grafo aleatorio N= 100: salto: 5000, con p = 0.01. Para cada grafo, correr gnn con bits variables desde 5-10 y subiendo. Para cada grafo, generar \\gammas y calcular promedio de correctitud + var(). grafico bits/n. erdos renyi. 1 plot\n",
    "\n",
    "Hacer gráfico que muestre la media y la desviación estandar considerando todos los gammas aleatorios\n",
    "\n",
    "\n",
    "Hacer un plot de bits necesarios para alcanzar un optimo dado un grfo de tamaño n"
   ]
  },
  {
   "cell_type": "code",
   "execution_count": 11,
   "metadata": {},
   "outputs": [
    {
     "data": {
      "text/plain": [
       "\"c:\\\\Users\\\\jacmo\\\\OneDrive - uc.cl\\\\Documentos\\\\cosas de la u\\\\Magister\\\\Single-channel-GNN\\\\results\\\\2.bits_erdos_renyi.png\""
      ]
     },
     "metadata": {},
     "output_type": "display_data"
    }
   ],
   "source": [
    "# P = [p for p in 0.1 : 0.05 : 0.5]\n",
    "P = [0.1]\n",
    "N = [n for n in 50 : 50 : 400]\n",
    "\n",
    "graphs = [[erdos_renyi(N[j], P[i]) for j in 1:length(N)] for i ∈ 1:length(P)]\n",
    "graphs = [[graphs[i][j][findall(>(0), degree(graphs[i][j]))] for j in 1:length(N)] for i ∈ 1:length(P)]\n",
    "\n",
    "bits = [i for i ∈ 10: 1 :60]\n",
    "bits_success = [[] for _ in N]\n",
    "\n",
    "for i ∈ 1:length(P)\n",
    "    for j in 1:length(N)\n",
    "        for sampling in 1:10\n",
    "            for bit ∈ bits\n",
    "                setprecision(BigFloat, bit)\n",
    "                γ = rand(BigFloat)\n",
    "                if WL_vs_GNN(graphs[i][j], γ)\n",
    "                    push!(bits_success[j], bit)\n",
    "                    break\n",
    "                end\n",
    "            end\n",
    "        end\n",
    "    end\n",
    "end\n",
    "\n",
    "regression = Regression([log(n) for n in N], mean.(bits_success))\n",
    "plot(N, mean.(bits_success), grid=false, yerror=std.(bits_success), label=\"Results\", dpi=1000)\n",
    "plot!(N, [regression[1] + regression[2]*log(n) for n in N], label=\"$(round(regression[2], digits=1))log(n)\")\n",
    "for i in 1:length(bits_success)\n",
    "    scatter!([N[i] for _ in 1:length(bits_success[i])], bits_success[i], label=\"\")\n",
    "end\n",
    "\n",
    "title!(\"WL vs 1D-MPGNN, Erdős Rényi\")\n",
    "xlabel!(\"N\")\n",
    "ylabel!(\"Message Size (Bits)\")\n",
    "savefig(\"results\\\\2.bits_erdos_renyi.png\")"
   ]
  },
  {
   "cell_type": "code",
   "execution_count": null,
   "metadata": {},
   "outputs": [],
   "source": [
    "regression = Regression([log(n) for n in N], mean.(bits_success))\n",
    "plot(N, mean.(bits_success), grid=false, yerror=std.(bits_success), xaxis=:log, label=\"Results\", dpi=1000)\n",
    "plot!(N, [regression[1] + regression[2]*log(n) for n in N], label=\"$(round(regression[2], digits=1))log(n)\")\n",
    "for i in 1:length(bits_success)\n",
    "    scatter!([N[i] for _ in 1:length(bits_success[i])], bits_success[i], label=\"\")\n",
    "end\n",
    "\n",
    "title!(\"WL vs 1D-MPGNN, Erdős Rényi\")\n",
    "xlabel!(\"N\")\n",
    "ylabel!(\"Message Size (Bits)\")\n",
    "savefig(\"results\\\\2.bits_erdos_renyi.png\")"
   ]
  },
  {
   "cell_type": "markdown",
   "metadata": {},
   "source": [
    "## 3. Big Erdős Rényi Experiment"
   ]
  },
  {
   "cell_type": "code",
   "execution_count": 119,
   "metadata": {},
   "outputs": [
    {
     "data": {
      "text/plain": [
       "4984.0"
      ]
     },
     "metadata": {},
     "output_type": "display_data"
    }
   ],
   "source": [
    "graph = erdos_renyi(5000, 0.1)\n",
    "graph = graph[findall(>(0), degree(graph))]\n",
    "x₀, edge_index = construct_graph(graph)\n",
    "\n",
    "iters, coloring_wl = WeisfeilerLehman(x₀, edge_index)\n",
    "wl_classes = maximum(coloring_wl)"
   ]
  },
  {
   "cell_type": "code",
   "execution_count": 120,
   "metadata": {},
   "outputs": [
    {
     "data": {
      "text/plain": [
       "\"c:\\\\Users\\\\jacmo\\\\OneDrive - uc.cl\\\\Documentos\\\\cosas de la u\\\\Magister\\\\Single-channel-GNN\\\\results\\\\3.big_erdos_renyi.png\""
      ]
     },
     "metadata": {},
     "output_type": "display_data"
    }
   ],
   "source": [
    "setprecision(BigFloat, 60)\n",
    "bits = [i for i ∈ 10: 100: 800]\n",
    "γs = sort([rand(BigFloat) for _ in 1:10])\n",
    "classes = [[] for bit in bits]\n",
    "\n",
    "for (i, bit) ∈ enumerate(bits)\n",
    "    setprecision(BigFloat, bit)\n",
    "    for γ ∈ γs\n",
    "        coloring_gnn = MPGNN(x₀, edge_index, γ, iters)\n",
    "        push!(classes[i], maximum(coloring_gnn))\n",
    "    end\n",
    "end\n",
    "\n",
    "plot(bits, [wl_classes for _ in bits], label=\"WL\", dpi=1000)\n",
    "plot!(bits, mean.(classes), grid=false, yerror=std.(classes), label=\"GNN\")\n",
    "title!(\"WL vs 1D-MPGNN, Big Erdős Rényi\")\n",
    "xlabel!(\"Message Size (Bits)\")\n",
    "ylabel!(\"Number of classes\")\n",
    "savefig(\"results\\\\3.big_erdos_renyi.png\")"
   ]
  },
  {
   "cell_type": "markdown",
   "metadata": {},
   "source": [
    "## 4. Cora Experiment"
   ]
  },
  {
   "cell_type": "code",
   "execution_count": 98,
   "metadata": {},
   "outputs": [
    {
     "data": {
      "text/plain": [
       "([1.0, 1.0, 1.0, 1.0, 1.0, 1.0, 1.0, 1.0, 1.0, 1.0  …  1.0, 1.0, 1.0, 1.0, 1.0, 1.0, 1.0, 1.0, 1.0, 1.0], [1 1 … 2708 2708; 634 1863 … 1474 2707])"
      ]
     },
     "metadata": {},
     "output_type": "display_data"
    }
   ],
   "source": [
    "dataset_directory = \"data/\"\n",
    "dataset = pyg.datasets.Planetoid(dataset_directory, \"Cora\")\n",
    "graph = dataset[0]\n",
    "x₀, edge_index = ones(2708), graph.edge_index.numpy() .+ 1\n",
    "\n",
    "iters, coloring_wl = WeisfeilerLehman(x₀, edge_index)\n",
    "wl_classes = maximum(coloring_wl)"
   ]
  },
  {
   "cell_type": "code",
   "execution_count": 116,
   "metadata": {},
   "outputs": [
    {
     "data": {
      "text/plain": [
       "\"c:\\\\Users\\\\jacmo\\\\OneDrive - uc.cl\\\\Documentos\\\\cosas de la u\\\\Magister\\\\Single-channel-GNN\\\\results\\\\4.cora.png\""
      ]
     },
     "metadata": {},
     "output_type": "display_data"
    }
   ],
   "source": [
    "setprecision(BigFloat, 60)\n",
    "bits = [i for i ∈ 10: 1 :60]\n",
    "γs = sort([rand(BigFloat) for _ in 1:10])\n",
    "classes = [[] for bit in bits]\n",
    "\n",
    "for (i, bit) ∈ enumerate(bits)\n",
    "    setprecision(BigFloat, bit)\n",
    "    for γ ∈ γs\n",
    "        coloring_gnn = MPGNN(x₀, edge_index, γ, iters)\n",
    "        push!(classes[i], maximum(coloring_gnn))\n",
    "    end\n",
    "end\n",
    "\n",
    "plot(bits, [wl_classes for _ in bits], label=\"WL\", dpi=1000)\n",
    "plot!(bits, mean.(classes), grid=false, yerror=std.(classes), label=\"GNN\")\n",
    "title!(\"WL vs 1D-MPGNN, Cora\")\n",
    "xlabel!(\"Message Size (Bits)\")\n",
    "ylabel!(\"Number of classes\")\n",
    "savefig(\"results\\\\4.cora.png\")\n"
   ]
  },
  {
   "cell_type": "code",
   "execution_count": 118,
   "metadata": {},
   "outputs": [
    {
     "data": {
      "text/plain": [
       "11-element Vector{BigFloat}:\n",
       " 2359.0\n",
       " 2359.1999999999999993\n",
       " 2359.6999999999999993\n",
       " 2360.6000000000000014\n",
       " 2361.0\n",
       " 2362.6000000000000014\n",
       " 2363.1999999999999993\n",
       " 2364.1999999999999993\n",
       " 2363.6999999999999993\n",
       " 2364.5\n",
       " 2365.1000000000000014"
      ]
     },
     "metadata": {},
     "output_type": "display_data"
    }
   ],
   "source": [
    "display(mean.(classes)[end-10:end])"
   ]
  },
  {
   "cell_type": "code",
   "execution_count": null,
   "metadata": {},
   "outputs": [],
   "source": []
  }
 ],
 "metadata": {
  "kernelspec": {
   "display_name": "Julia 1.7.1",
   "language": "julia",
   "name": "julia-1.7"
  },
  "language_info": {
   "file_extension": ".jl",
   "mimetype": "application/julia",
   "name": "julia",
   "version": "1.7.1"
  }
 },
 "nbformat": 4,
 "nbformat_minor": 2
}
