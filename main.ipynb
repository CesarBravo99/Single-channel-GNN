{
 "cells": [
  {
   "cell_type": "code",
   "execution_count": 1,
   "metadata": {},
   "outputs": [
    {
     "data": {
      "image/svg+xml": [
       "<?xml version=\"1.0\" encoding=\"UTF-8\"?>\n",
       "<!DOCTYPE svg PUBLIC \"-//W3C//DTD SVG 1.1//EN\"\n",
       " \"http://www.w3.org/Graphics/SVG/1.1/DTD/svg11.dtd\">\n",
       "<svg xmlns=\"http://www.w3.org/2000/svg\" version=\"1.1\"\n",
       "     width=\"180mm\" height=\"25mm\"\n",
       "     viewBox=\"0 0 16 1\" preserveAspectRatio=\"none\"\n",
       "     shape-rendering=\"crispEdges\" stroke=\"none\">\n",
       "<rect width=\".91\" height=\".96\" x=\"0\" y=\"0\" fill=\"#009AFA\" />\n",
       "<rect width=\".91\" height=\".96\" x=\"1\" y=\"0\" fill=\"#E36F47\" />\n",
       "<rect width=\".91\" height=\".96\" x=\"2\" y=\"0\" fill=\"#3EA44E\" />\n",
       "<rect width=\".91\" height=\".96\" x=\"3\" y=\"0\" fill=\"#C371D2\" />\n",
       "<rect width=\".91\" height=\".96\" x=\"4\" y=\"0\" fill=\"#AC8E18\" />\n",
       "<rect width=\".91\" height=\".96\" x=\"5\" y=\"0\" fill=\"#00AAAE\" />\n",
       "<rect width=\".91\" height=\".96\" x=\"6\" y=\"0\" fill=\"#ED5E93\" />\n",
       "<rect width=\".91\" height=\".96\" x=\"7\" y=\"0\" fill=\"#C68225\" />\n",
       "<rect width=\".91\" height=\".96\" x=\"8\" y=\"0\" fill=\"#00A98D\" />\n",
       "<rect width=\".91\" height=\".96\" x=\"9\" y=\"0\" fill=\"#8E971E\" />\n",
       "<rect width=\".91\" height=\".96\" x=\"10\" y=\"0\" fill=\"#00A9CC\" />\n",
       "<rect width=\".91\" height=\".96\" x=\"11\" y=\"0\" fill=\"#9B7FE9\" />\n",
       "<rect width=\".91\" height=\".96\" x=\"12\" y=\"0\" fill=\"#618DF6\" />\n",
       "<rect width=\".91\" height=\".96\" x=\"13\" y=\"0\" fill=\"#F06073\" />\n",
       "<rect width=\".91\" height=\".96\" x=\"14\" y=\"0\" fill=\"#DD65B6\" />\n",
       "<rect width=\".91\" height=\".96\" x=\"15\" y=\"0\" fill=\"#6C9F33\" />\n",
       "</svg>"
      ],
      "text/plain": [
       "ColorPalette(ColorSchemes.ColorScheme{Vector{RGB{Float64}}, String, String}(RGB{Float64}[RGB{Float64}(0.0,0.6056031611752245,0.9786801175696073), RGB{Float64}(0.8888735002725198,0.43564919034818994,0.2781229361419438), RGB{Float64}(0.2422242978521988,0.6432750931576305,0.3044486515341153), RGB{Float64}(0.7644401754934356,0.4441117794687767,0.8242975359232758), RGB{Float64}(0.6755439572114057,0.5556623322045815,0.09423433626639477), RGB{Float64}(4.821181644776295e-7,0.6657589812923561,0.6809969518707945), RGB{Float64}(0.930767491919665,0.3674771896571412,0.5757699667547829), RGB{Float64}(0.7769816661712932,0.5097431319944513,0.1464252569555497), RGB{Float64}(3.8077343661790943e-7,0.6642678029460116,0.5529508754522481), RGB{Float64}(0.558464964115081,0.5934846564332882,0.11748125233232104), RGB{Float64}(5.947623898072685e-7,0.6608785231434254,0.7981787608414297), RGB{Float64}(0.6096707676128648,0.49918492100827777,0.9117812665042642), RGB{Float64}(0.3800016049820351,0.5510532724353506,0.9665056985227146), RGB{Float64}(0.942181647954218,0.37516423354097583,0.4518168202944593), RGB{Float64}(0.8684020893043971,0.3959893639954845,0.7135147524811879), RGB{Float64}(0.42314674364630817,0.6224954944199981,0.19877060252130468)], \"\", \"\"))"
      ]
     },
     "metadata": {},
     "output_type": "display_data"
    }
   ],
   "source": [
    "# using Distributed; addprocs(Sys.CPU_THREADS);\n",
    "using Statistics\n",
    "using DataStructures\n",
    "using DataFrames\n",
    "using NNlib\n",
    "using Graphs\n",
    "using PyCall\n",
    "nx = pyimport(\"networkx\")\n",
    "pyg = pyimport(\"torch_geometric\")\n",
    "include(\"src/weisfeiler_lehman.jl\")\n",
    "include(\"src/mpgnn.jl\")\n",
    "include(\"src/utils.jl\")\n",
    "colors = theme_palette(:default)"
   ]
  },
  {
   "cell_type": "markdown",
   "metadata": {},
   "source": [
    "## WL and MPGNN basic test"
   ]
  },
  {
   "cell_type": "code",
   "execution_count": 9,
   "metadata": {},
   "outputs": [
    {
     "name": "stdout",
     "output_type": "stream",
     "text": [
      "BigFloat[1.0, 2.0, 1.0, 3.0, 3.0]\n",
      "BigFloat[1.0, 2.0, 1.0, 3.0, 3.0]\n"
     ]
    }
   ],
   "source": [
    "edge_index = [\n",
    "     1 1 1 2 2 3 3 3 4 4 5 5;\n",
    "     2 3 5 1 3 1 2 4 3 5 1 4\n",
    "]\n",
    "x₀ = [\n",
    "     1, 1, 1, 1, 1\n",
    "]\n",
    "γ = 0.1\n",
    "wl_iters, wl_coloring = WeisfeilerLehman(x₀, edge_index)\n",
    "gnn_coloring = MPGNN(x₀, edge_index, γ, 3)\n",
    "\n",
    "println(wl_coloring)\n",
    "println(gnn_coloring)"
   ]
  },
  {
   "cell_type": "markdown",
   "metadata": {},
   "source": [
    "![Alt Text](wl.gif)"
   ]
  },
  {
   "cell_type": "markdown",
   "metadata": {},
   "source": [
    "## 1. Bag of Graphs Experiment\n",
    "### 1.1 Bag of Erdős–Rényi\n",
    "\n",
    "Here, we create an Erdős–Rényi random graph with **n** vertices. Edges are added between pairs of vertices with probability **p**."
   ]
  },
  {
   "cell_type": "code",
   "execution_count": 31,
   "metadata": {},
   "outputs": [],
   "source": [
    "setprecision(BigFloat, 50)\n",
    "γs = sort([rand(BigFloat) for _ in 1:50])\n",
    "lottery_γs_erdos = []\n",
    "success_sum = []\n",
    "P = [p for p in 0.05 : 0.01 : 0.1]\n",
    "N = [n for n in 20 : 5 : 265]\n",
    "\n",
    "graphs = [[erdos_renyi(N[j], P[i]) for j in 1:length(N)] for i ∈ 1:length(P)]\n",
    "graphs = [[graphs[i][j][findall(>(0), degree(graphs[i][j]))] for j in 1:length(N)] for i ∈ 1:length(P)]\n",
    "\n",
    "for γ ∈ γs\n",
    "    success_matrix = zeros(length(P), length(N))\n",
    "    for i ∈ 1:length(P)\n",
    "        for j in 1:length(N)\n",
    "            success_matrix[i, j] = WL_vs_GNN(graphs[i][j], γ)\n",
    "        end\n",
    "    end\n",
    "    push!(success_sum, sum(success_matrix))\n",
    "    if sum(success_matrix) == sum(ones(length(P), length(N)))\n",
    "        # println(\"lottery ticket γ: $(γ)\")\n",
    "        push!(lottery_γs_erdos, γ) \n",
    "    end\n",
    "end"
   ]
  },
  {
   "cell_type": "code",
   "execution_count": 45,
   "metadata": {},
   "outputs": [
    {
     "data": {
      "text/plain": [
       "44-element Vector{Any}:\n",
       " 0.021563476993270214\n",
       " 0.052744037230915808\n",
       " 0.057323206991157782\n",
       " 0.063377716953294083\n",
       " 0.07405842412748509\n",
       " 0.085557881522405843\n",
       " 0.14612235643383098\n",
       " 0.14953867364812989\n",
       " 0.1528851789703225\n",
       " 0.16130093767367271\n",
       " ⋮\n",
       " 0.68160009812719213\n",
       " 0.68250860024421645\n",
       " 0.72272678918125166\n",
       " 0.77846219579510745\n",
       " 0.78629000028250218\n",
       " 0.81200835123464987\n",
       " 0.82204473295555669\n",
       " 0.82676212175756092\n",
       " 0.89197869656456952"
      ]
     },
     "metadata": {},
     "output_type": "display_data"
    }
   ],
   "source": [
    "lottery_γs_erdos"
   ]
  },
  {
   "cell_type": "code",
   "execution_count": null,
   "metadata": {},
   "outputs": [],
   "source": [
    "ones_sum = sum(ones(length(P), length(N)))\n",
    "selected_lottery_γs = vcat(lottery_γs_erdos[1], vcat(rand(lottery_γs_erdos, 3), lottery_γs_erdos[end]))\n",
    "plot(γs, [ones_sum for _ ∈ γs], label=\"WL\", dpi=1000)\n",
    "plot!(γs, success_sum, label=\"GNN\")\n",
    "scatter!(lottery_γs_erdos, [ones_sum for _ ∈ lottery_γs_erdos],\n",
    "        mc=colors[3], ms=3, ma=0.5,\n",
    "        label=\"Lottery γs\")\n",
    "scatter!(selected_lottery_γs, [ones_sum for _ ∈ selected_lottery_γs], \n",
    "        series_annotations = text.(selected_lottery_γs, :left, 8, rotation=270), \n",
    "        mc=colors[3], ms=3, ma=0.5,\n",
    "        label=\"\")\n",
    "\n",
    "ylims!(0, 1.1*ones_sum)\n",
    "title!(\"WL vs 1D-MPNN, Erdős Rényi\")\n",
    "xlabel!(\"γ\")\n",
    "ylabel!(\"Successful Simulations\")\n",
    "savefig(\"results\\\\1.1.erdos_renyi.png\")"
   ]
  },
  {
   "cell_type": "markdown",
   "metadata": {},
   "source": [
    "### 1.2 Bag of Barabási–Albert\n",
    "\n",
    "Here, we create a Barabási–Albert model random graph with n vertices. It is grown by adding new vertices to an initial graph with k vertices. Each new vertex is attached with k edges to k different vertices already present in the system by preferential attachment. Initial graphs are undirected and consist of isolated vertices by default."
   ]
  },
  {
   "cell_type": "code",
   "execution_count": 28,
   "metadata": {},
   "outputs": [],
   "source": [
    "setprecision(BigFloat, 135)\n",
    "γs = sort([rand(BigFloat) for _ in 1:50])\n",
    "lottery_γs = []\n",
    "success_sum = []\n",
    "K = [k for k in 5 : 5 : 20]\n",
    "N = [n for n in 50 : 3 : 273]\n",
    "\n",
    "graphs = [[barabasi_albert(N[j], K[i]) for j in 1:length(N)] for i ∈ 1:length(K)]\n",
    "graphs = [[graphs[i][j][findall(>(0), degree(graphs[i][j]))] for j in 1:length(N)] for i ∈ 1:length(K)]\n",
    "\n",
    "for γ ∈ γs\n",
    "    success_matrix = zeros(length(K), length(N))\n",
    "    for i ∈ 1:length(K)\n",
    "        for j in 1:length(N)\n",
    "            success_matrix[i, j] = WL_vs_GNN(graphs[i][j], γ)\n",
    "        end\n",
    "    end\n",
    "    push!(success_sum, sum(success_matrix))\n",
    "    if sum(success_matrix) == sum(ones(length(K), length(N)))\n",
    "        # println(\"lottery ticket γ: $(γ)\")\n",
    "        push!(lottery_γs, γ) \n",
    "    end\n",
    "end"
   ]
  },
  {
   "cell_type": "code",
   "execution_count": 44,
   "metadata": {},
   "outputs": [
    {
     "data": {
      "text/plain": [
       "44-element Vector{Any}:\n",
       " 0.00911638695000082373421465944185524007114575\n",
       " 0.0137436070323187821989066193812732161940691\n",
       " 0.0620895576857160953960370035055580717843639\n",
       " 0.0828300999503917918730639016777337346565403\n",
       " 0.083923602889189387085363244392360297735704\n",
       " 0.0867372744267148347172077895010847675508327\n",
       " 0.0959802447810247050342796978840170365775362\n",
       " 0.102576920316872050603558149390988771995365\n",
       " 0.141440907585404652455139703282799384808581\n",
       " 0.16638417074215462209194198545596909631458\n",
       " ⋮\n",
       " 0.762950370321839315125960393090576428400023\n",
       " 0.785797965724755647440686230144460925333673\n",
       " 0.788977586462408109470817902828955796838461\n",
       " 0.800424027438892389136964867592630284205623\n",
       " 0.822733749241030932771698052632946783748034\n",
       " 0.850131818606531642027651181579492146381754\n",
       " 0.872159371117777358408965359667590920586228\n",
       " 0.875317148656477275606322478385453622669189\n",
       " 0.87841386771056150819276869601179928650411"
      ]
     },
     "metadata": {},
     "output_type": "display_data"
    }
   ],
   "source": [
    "lottery_γs"
   ]
  },
  {
   "cell_type": "code",
   "execution_count": null,
   "metadata": {},
   "outputs": [],
   "source": [
    "setprecision(BigFloat, 135)\n",
    "ones_sum = sum(ones(length(K), length(N)))\n",
    "selected_lottery_γs = vcat(lottery_γs[1], vcat(rand(lottery_γs, 3), lottery_γs[end]))\n",
    "plot(γs, [ones_sum for _ ∈ γs], label=\"WL\", dpi=1000)\n",
    "plot!(γs, success_sum, label=\"GNN\")\n",
    "scatter!(lottery_γs, [ones_sum for _ ∈ lottery_γs],\n",
    "        mc=colors[3], ms=3, ma=0.5,\n",
    "        label=\"Lottery γs\")\n",
    "scatter!(selected_lottery_γs, [ones_sum for _ ∈ selected_lottery_γs], \n",
    "        series_annotations = text.(BigFloat.(selected_lottery_γs), :left, 8, rotation=270), \n",
    "        mc=colors[3], ms=3, ma=0.5,\n",
    "        label=\"\")\n",
    "\n",
    "ylims!(0, 1.1*ones_sum)\n",
    "title!(\"WL vs 1D-MPNN, Barabási Albert\")\n",
    "xlabel!(\"γ\")\n",
    "ylabel!(\"Successful Simulations\")\n",
    "savefig(\"results\\\\1.2.barabasi_albert.png\")"
   ]
  },
  {
   "cell_type": "markdown",
   "metadata": {},
   "source": [
    "## 2. Successful Bits Experiment "
   ]
  },
  {
   "cell_type": "code",
   "execution_count": 48,
   "metadata": {},
   "outputs": [],
   "source": [
    "# P = [p for p in 0.1 : 0.05 : 0.5]\n",
    "P = [0.1]\n",
    "N = [n for n in 10 : 50 : 3010]\n",
    "\n",
    "graphs = [[erdos_renyi(N[j], P[i]) for j in 1:length(N)] for i ∈ 1:length(P)]\n",
    "graphs = [[graphs[i][j][findall(>(0), degree(graphs[i][j]))] for j in 1:length(N)] for i ∈ 1:length(P)]\n",
    "\n",
    "bits = [i for i ∈ 2: 1 :400]\n",
    "bits_success = [[] for _ in N]\n",
    "\n",
    "setprecision(BigFloat, 100)\n",
    "# γs = [rand(BigFloat)*0.8 for _ in 1:20]\n",
    "\n",
    "for i ∈ 1:length(P)\n",
    "    for j in 1:length(N)\n",
    "        x₀, edge_index = construct_graph(graphs[i][j])\n",
    "        iters, coloring_wl = WeisfeilerLehman(x₀, edge_index)\n",
    "        for sample ∈ 1:20\n",
    "            for bit ∈ bits\n",
    "                setprecision(BigFloat, bit)\n",
    "                γ = rand(BigFloat)\n",
    "                coloring_gnn = MPGNN(x₀, edge_index, γ, iters)\n",
    "                if sum(coloring_wl) <= sum(coloring_gnn)\n",
    "                    push!(bits_success[j], bit)\n",
    "                    break\n",
    "                end\n",
    "            end\n",
    "        end\n",
    "    end\n",
    "end"
   ]
  },
  {
   "cell_type": "code",
   "execution_count": null,
   "metadata": {},
   "outputs": [],
   "source": [
    "regression = Regression([log2(n) for n in N], mean.(bits_success))\n",
    "plot(N, mean.(bits_success), grid=false, yerror=std.(bits_success), label=\"Avg\", dpi=1000)\n",
    "plot!(N, [regression[1] + regression[2]*log2(n) for n in N], linestyle=:dash, label=\"$(round(regression[2], digits=1))log(n)\")\n",
    "# for i in 1:length(bits_success)\n",
    "#     scatter!([N[i] for _ in 1:length(bits_success[i])], bits_success[i], label=\"\")\n",
    "# end\n",
    "\n",
    "title!(\"Model Size vs Input Size, Erdős Rényi\")\n",
    "xlabel!(\"Graph Size\")\n",
    "ylabel!(\"Precision Bits\")\n",
    "savefig(\"results\\\\2.bits_erdos_renyi.png\")"
   ]
  },
  {
   "cell_type": "markdown",
   "metadata": {},
   "source": [
    "## 3. Big Erdős Rényi Experiment"
   ]
  },
  {
   "cell_type": "code",
   "execution_count": 11,
   "metadata": {},
   "outputs": [
    {
     "name": "stdout",
     "output_type": "stream",
     "text": [
      "nodes: 5000, WL classes: 3718.0\n"
     ]
    }
   ],
   "source": [
    "graph = erdos_renyi(5000, 0.002)\n",
    "graph = graph[findall(>(0), degree(graph))]\n",
    "x₀, edge_index = construct_graph(graph)\n",
    "\n",
    "iters, coloring_wl = WeisfeilerLehman(x₀, edge_index)\n",
    "wl_classes = maximum(coloring_wl)\n",
    "println(\"nodes: $(nv(graph)), WL classes: $(wl_classes)\")"
   ]
  },
  {
   "cell_type": "code",
   "execution_count": 12,
   "metadata": {},
   "outputs": [],
   "source": [
    "setprecision(BigFloat, 100)\n",
    "bits = [i for i ∈ 10: 1: 40]\n",
    "γs = sort([rand(BigFloat) for _ in 1:20])\n",
    "classes = [[] for bit in bits]\n",
    "\n",
    "for (i, bit) ∈ enumerate(bits)\n",
    "    setprecision(BigFloat, bit)\n",
    "    # γs = sort([rand(BigFloat) for _ in 1:20])\n",
    "    for γ ∈ γs\n",
    "        coloring_gnn = MPGNN(x₀, edge_index, γ, iters)\n",
    "        push!(classes[i], maximum(coloring_gnn))\n",
    "    end\n",
    "end"
   ]
  },
  {
   "cell_type": "code",
   "execution_count": null,
   "metadata": {},
   "outputs": [],
   "source": [
    "plot(bits, [wl_classes for _ in bits], label=\"WL\", dpi=1000)\n",
    "plot!(bits, mean.(classes), grid=false, label=\"GNN\")\n",
    "for i in 1:2:length(classes)\n",
    "    scatter!([bits[i] for _ in 1:length(classes[i])], classes[i], label=\"\")\n",
    "end\n",
    "title!(\"Model Size vs Performance, Big Erdős Rényi\")\n",
    "xlabel!(\"Precision Bits\")\n",
    "ylabel!(\"Number of classes\")\n",
    "savefig(\"results\\\\3.big_erdos_renyi.png\")"
   ]
  },
  {
   "cell_type": "markdown",
   "metadata": {},
   "source": [
    "## 4. Cora Experiment"
   ]
  },
  {
   "cell_type": "code",
   "execution_count": 14,
   "metadata": {},
   "outputs": [
    {
     "name": "stdout",
     "output_type": "stream",
     "text": [
      "nodes: 2708, WL classes: 2365.0\n"
     ]
    }
   ],
   "source": [
    "dataset_directory = \"data/\"\n",
    "dataset = pyg.datasets.Planetoid(dataset_directory, \"Cora\")\n",
    "graph = dataset[0]\n",
    "x₀, edge_index = ones(2708), graph.edge_index.numpy() .+ 1\n",
    "\n",
    "iters, coloring_wl = WeisfeilerLehman(x₀, edge_index)\n",
    "wl_classes = maximum(coloring_wl)\n",
    "println(\"nodes: $(2708), WL classes: $(wl_classes)\")"
   ]
  },
  {
   "cell_type": "code",
   "execution_count": 15,
   "metadata": {},
   "outputs": [],
   "source": [
    "setprecision(BigFloat, 60)\n",
    "bits = [i for i ∈ 10: 1 :40]\n",
    "γs = sort([rand(BigFloat) for _ in 1:20])\n",
    "classes = [[] for bit in bits]\n",
    "\n",
    "for (i, bit) ∈ enumerate(bits)\n",
    "    setprecision(BigFloat, bit)\n",
    "    # γs = sort([rand(BigFloat) for _ in 1:10])\n",
    "    for γ ∈ γs\n",
    "        coloring_gnn = MPGNN(x₀, edge_index, γ, iters)\n",
    "        push!(classes[i], maximum(coloring_gnn))\n",
    "    end\n",
    "end"
   ]
  },
  {
   "cell_type": "code",
   "execution_count": null,
   "metadata": {},
   "outputs": [],
   "source": [
    "plot(bits, [wl_classes for _ in bits], label=\"WL\", dpi=1000)\n",
    "plot!(bits, mean.(classes), grid=false, label=\"GNN\")\n",
    "for i in 1:2:length(classes)\n",
    "    scatter!([bits[i] for _ in 1:length(classes[i])], classes[i], label=\"\")\n",
    "end\n",
    "title!(\"Model Size vs Performance, Cora\")\n",
    "xlabel!(\"Precision Bits\")\n",
    "ylabel!(\"Number of classes\")\n",
    "savefig(\"results\\\\4.cora.png\")"
   ]
  },
  {
   "cell_type": "markdown",
   "metadata": {},
   "source": [
    "## 5. WL-completeness ratio"
   ]
  },
  {
   "cell_type": "code",
   "execution_count": 2,
   "metadata": {},
   "outputs": [
    {
     "data": {
      "text/plain": [
       "PyObject Tox21_AhR_training(8169)"
      ]
     },
     "metadata": {},
     "output_type": "display_data"
    }
   ],
   "source": [
    "dataset_directory = \"data/\"\n",
    "\n",
    "AIDS_dataset = pyg.datasets.TUDataset(dataset_directory, \"AIDS\")\n",
    "BZR_dataset = pyg.datasets.TUDataset(dataset_directory, \"BZR\")\n",
    "COX2_dataset = pyg.datasets.TUDataset(dataset_directory, \"COX2\")\n",
    "DHFR_dataset = pyg.datasets.TUDataset(dataset_directory, \"DHFR\")\n",
    "DD_dataset = pyg.datasets.TUDataset(dataset_directory, \"DD\")\n",
    "ENZYMES_dataset = pyg.datasets.TUDataset(dataset_directory, \"ENZYMES\")\n",
    "FRANKENSTEIN_dataset = pyg.datasets.TUDataset(dataset_directory, \"FRANKENSTEIN\")\n",
    "IMDB_BINARY_dataset = pyg.datasets.TUDataset(dataset_directory, \"IMDB-BINARY\")\n",
    "IMDB_MULTI_dataset = pyg.datasets.TUDataset(dataset_directory, \"IMDB-MULTI\")\n",
    "MSRC_9_dataset = pyg.datasets.TUDataset(dataset_directory, \"MSRC_9\")\n",
    "MSRC_21_dataset = pyg.datasets.TUDataset(dataset_directory, \"MSRC_21\")\n",
    "MSRC_21C_dataset = pyg.datasets.TUDataset(dataset_directory, \"MSRC_21C\")\n",
    "MUTAG_dataset = pyg.datasets.TUDataset(dataset_directory, \"MUTAG\")\n",
    "Mutagenicity_dataset = pyg.datasets.TUDataset(dataset_directory, \"Mutagenicity\")\n",
    "NCI1_dataset = pyg.datasets.TUDataset(dataset_directory, \"NCI1\")\n",
    "NCI109_dataset = pyg.datasets.TUDataset(dataset_directory, \"NCI109\")\n",
    "PROTEINS_dataset = pyg.datasets.TUDataset(dataset_directory, \"PROTEINS\")\n",
    "PTC_FM_dataset = pyg.datasets.TUDataset(dataset_directory, \"PTC_FM\")\n",
    "PTC_FR_dataset = pyg.datasets.TUDataset(dataset_directory, \"PTC_FR\")\n",
    "PTC_MM_dataset = pyg.datasets.TUDataset(dataset_directory, \"PTC_MM\")\n",
    "PTC_MR_dataset = pyg.datasets.TUDataset(dataset_directory, \"PTC_MR\")\n",
    "REDDIT_BINARY_dataset = pyg.datasets.TUDataset(dataset_directory, \"REDDIT-BINARY\")\n",
    "SYNTHETICnew_dataset = pyg.datasets.TUDataset(dataset_directory, \"SYNTHETICnew\")\n",
    "Synthie_dataset = pyg.datasets.TUDataset(dataset_directory, \"Synthie\")\n",
    "Tox21_AR_dataset = pyg.datasets.TUDataset(dataset_directory, \"Tox21_AR_training\")\n",
    "Tox21_AhR_dataset = pyg.datasets.TUDataset(dataset_directory, \"Tox21_AhR_training\")"
   ]
  },
  {
   "cell_type": "code",
   "execution_count": 3,
   "metadata": {},
   "outputs": [
    {
     "data": {
      "text/plain": [
       "eval_dataset (generic function with 1 method)"
      ]
     },
     "metadata": {},
     "output_type": "display_data"
    }
   ],
   "source": [
    "function eval_dataset(dataset, γ)\n",
    "    completeness_ratio(x) = sum(x) / length(x)\n",
    "    completeness_vec = zeros(length(dataset))\n",
    "    for i in 0:length(dataset)-1\n",
    "        edge_index = dataset[i].edge_index.numpy() .+ 1 \n",
    "        if \"x\" in dataset[i].keys() x₀ = label_encoder(dataset[i].x.numpy())\n",
    "        else x₀ = ones(dataset[i].num_nodes)\n",
    "        end\n",
    "        iters, coloring_wl = WeisfeilerLehman(x₀, edge_index)\n",
    "        coloring_gnn = MPGNN(x₀, edge_index, γ, iters+1)\n",
    "        completeness_vec[i+1] = sum(coloring_wl) <= sum(coloring_gnn)\n",
    "    end\n",
    "    return completeness_ratio(completeness_vec)\n",
    "end"
   ]
  },
  {
   "cell_type": "code",
   "execution_count": 35,
   "metadata": {},
   "outputs": [
    {
     "name": "stdout",
     "output_type": "stream",
     "text": [
      "success ratio IMDB_BINARY: 99.9%\n",
      "success ratio IMDB_MULTI: 99.93333333333334%\n",
      "success ratio MSRC_9: 100.0%\n",
      "success ratio MSRC_21: 100.0%\n",
      "success ratio MSRC_21C: 100.0%\n",
      "success ratio MUTAG: 100.0%\n",
      "success ratio Mutagenicity: 99.8616555222504%\n",
      "success ratio NCI1: 99.7080291970803%\n",
      "success ratio NCI109: 99.78192391567725%\n",
      "success ratio PROTEINS: 99.73045822102426%\n",
      "success ratio PTC_FM: 100.0%\n",
      "success ratio PTC_FR: 100.0%\n",
      "success ratio PTC_MM: 100.0%\n",
      "success ratio PTC_MR: 100.0%\n",
      "success ratio REDDIT_BINARY: 90.65%\n",
      "success ratio SYNTHETICnew: 100.0%\n",
      "success ratio Synthie: 100.0%\n",
      "success ratio Tox21_AR: 99.88250373851741%\n",
      "success ratio Tox21_AhR: 99.88982739625413%\n"
     ]
    }
   ],
   "source": [
    "setprecision(BigFloat, 50)\n",
    "γ = rand(BigFloat)\n",
    "\n",
    "println(\"success ratio AIDS: $(eval_dataset(AIDS_dataset, γ))%\")\n",
    "println(\"success ratio BZR: $(eval_dataset(BZR_dataset, γ))%\")\n",
    "println(\"success ratio COX2: $(eval_dataset(COX2_dataset, γ))%\")\n",
    "println(\"success ratio DHFR: $(eval_dataset(DHFR_dataset, γ))%\")\n",
    "println(\"success ratio DD: $(eval_dataset(DD_dataset, γ))%\")\n",
    "println(\"success ratio ENZYMES: $(eval_dataset(ENZYMES_dataset, γ))%\")\n",
    "println(\"success ratio FRANKENSTEIN: $(eval_dataset(FRANKENSTEIN_dataset, γ))%\")\n",
    "println(\"success ratio IMDB_BINARY: $(eval_dataset(IMDB_BINARY_dataset, γ))%\")\n",
    "println(\"success ratio IMDB_MULTI: $(eval_dataset(IMDB_MULTI_dataset, γ))%\")\n",
    "println(\"success ratio MSRC_9: $(eval_dataset(MSRC_9_dataset, γ))%\")\n",
    "println(\"success ratio MSRC_21: $(eval_dataset(MSRC_21_dataset, γ))%\")\n",
    "println(\"success ratio MSRC_21C: $(eval_dataset(MSRC_21C_dataset, γ))%\")\n",
    "println(\"success ratio MUTAG: $(eval_dataset(MUTAG_dataset, γ))%\")\n",
    "println(\"success ratio Mutagenicity: $(eval_dataset(Mutagenicity_dataset, γ))%\")\n",
    "println(\"success ratio NCI1: $(eval_dataset(NCI1_dataset, γ))%\")\n",
    "println(\"success ratio NCI109: $(eval_dataset(NCI109_dataset, γ))%\")\n",
    "println(\"success ratio PROTEINS: $(eval_dataset(PROTEINS_dataset, γ))%\")\n",
    "println(\"success ratio PTC_FM: $(eval_dataset(PTC_FM_dataset, γ))%\")\n",
    "println(\"success ratio PTC_FR: $(eval_dataset(PTC_FR_dataset, γ))%\")\n",
    "println(\"success ratio PTC_MM: $(eval_dataset(PTC_MM_dataset, γ))%\")\n",
    "println(\"success ratio PTC_MR: $(eval_dataset(PTC_MR_dataset, γ))%\")\n",
    "println(\"success ratio REDDIT_BINARY: $(eval_dataset(REDDIT_BINARY_dataset, γ))%\")\n",
    "println(\"success ratio SYNTHETICnew: $(eval_dataset(SYNTHETICnew_dataset, γ))%\")\n",
    "println(\"success ratio Synthie: $(eval_dataset(Synthie_dataset, γ))%\")\n",
    "println(\"success ratio Tox21_AR: $(eval_dataset(Tox21_AR_dataset, γ))%\")\n",
    "println(\"success ratio Tox21_AhR: $(eval_dataset(Tox21_AhR_dataset, γ))%\")"
   ]
  },
  {
   "cell_type": "code",
   "execution_count": 4,
   "metadata": {},
   "outputs": [],
   "source": [
    "setprecision(BigFloat, 50)\n",
    "\n",
    "datasets_name = [\"AIDS\", \"BZR\", \"COX2\", \"DHFR\", \"DD\", \"ENZYMES\", \"FRANKENSTEIN\", \"IMDB_BINARY\", \"IMDB_MULTI\", \"MSRC_9\", \"MSRC_21\", \"MSRC_21C\", \"MUTAG\", \"Mutagenicity\", \"NCI1\", \"NCI109\", \"PROTEINS\", \"PTC_FM\", \"PTC_FR\", \"PTC_MM\", \"PTC_MR\", \"REDDIT_BINARY\", \"SYNTHETICnew\", \"Synthie\", \"Tox21_AR\", \"Tox21_AhR\"]\n",
    "datasets = [AIDS_dataset, BZR_dataset, COX2_dataset, DHFR_dataset, DD_dataset, ENZYMES_dataset, FRANKENSTEIN_dataset, IMDB_BINARY_dataset, IMDB_MULTI_dataset, MSRC_9_dataset, MSRC_21_dataset, MSRC_21C_dataset, MUTAG_dataset, Mutagenicity_dataset, NCI1_dataset, NCI109_dataset, PROTEINS_dataset, PTC_FM_dataset, PTC_FR_dataset, PTC_MM_dataset, PTC_MR_dataset, REDDIT_BINARY_dataset, SYNTHETICnew_dataset, Synthie_dataset, Tox21_AR_dataset, Tox21_AhR_dataset]\n",
    "γs = sort([rand(BigFloat) for _ in 1:10])\n",
    "data = zeros(length(datasets), length(γs))\n",
    "\n",
    "for i in 1:length(datasets)\n",
    "    for j in 1:length(γs)\n",
    "        data[i, j] = eval_dataset(datasets[i], γs[j])\n",
    "    end\n",
    "end"
   ]
  },
  {
   "cell_type": "code",
   "execution_count": 5,
   "metadata": {},
   "outputs": [
    {
     "data": {
      "text/html": [
       "<div><div style = \"float: left;\"><span>26×11 DataFrame</span></div><div style = \"clear: both;\"></div></div><div class = \"data-frame\" style = \"overflow-x: scroll;\"><table class = \"data-frame\" style = \"margin-bottom: 6px;\"><thead><tr class = \"header\"><th class = \"rowNumber\" style = \"font-weight: bold; text-align: right;\">Row</th><th style = \"text-align: left;\">Datasets</th><th style = \"text-align: left;\">0.047632445456408767</th><th style = \"text-align: left;\">0.050724755360278095</th><th style = \"text-align: left;\">0.19918206223757995</th><th style = \"text-align: left;\">0.29442653835248134</th><th style = \"text-align: left;\">0.41964098075459066</th><th style = \"text-align: left;\">0.45084110661256549</th><th style = \"text-align: left;\">0.75045566955509369</th><th style = \"text-align: left;\">0.86647638573282482</th><th style = \"text-align: left;\">0.87574121960825835</th><th style = \"text-align: left;\">0.97318473920207271</th></tr><tr class = \"subheader headerLastRow\"><th class = \"rowNumber\" style = \"font-weight: bold; text-align: right;\"></th><th title = \"String\" style = \"text-align: left;\">String</th><th title = \"Float64\" style = \"text-align: left;\">Float64</th><th title = \"Float64\" style = \"text-align: left;\">Float64</th><th title = \"Float64\" style = \"text-align: left;\">Float64</th><th title = \"Float64\" style = \"text-align: left;\">Float64</th><th title = \"Float64\" style = \"text-align: left;\">Float64</th><th title = \"Float64\" style = \"text-align: left;\">Float64</th><th title = \"Float64\" style = \"text-align: left;\">Float64</th><th title = \"Float64\" style = \"text-align: left;\">Float64</th><th title = \"Float64\" style = \"text-align: left;\">Float64</th><th title = \"Float64\" style = \"text-align: left;\">Float64</th></tr></thead><tbody><tr><td class = \"rowNumber\" style = \"font-weight: bold; text-align: right;\">1</td><td style = \"text-align: left;\">AIDS</td><td style = \"text-align: right;\">0.981</td><td style = \"text-align: right;\">0.981</td><td style = \"text-align: right;\">0.9975</td><td style = \"text-align: right;\">0.998</td><td style = \"text-align: right;\">0.999</td><td style = \"text-align: right;\">0.999</td><td style = \"text-align: right;\">0.999</td><td style = \"text-align: right;\">0.9985</td><td style = \"text-align: right;\">0.9985</td><td style = \"text-align: right;\">0.998</td></tr><tr><td class = \"rowNumber\" style = \"font-weight: bold; text-align: right;\">2</td><td style = \"text-align: left;\">BZR</td><td style = \"text-align: right;\">0.997531</td><td style = \"text-align: right;\">1.0</td><td style = \"text-align: right;\">1.0</td><td style = \"text-align: right;\">1.0</td><td style = \"text-align: right;\">1.0</td><td style = \"text-align: right;\">1.0</td><td style = \"text-align: right;\">1.0</td><td style = \"text-align: right;\">1.0</td><td style = \"text-align: right;\">1.0</td><td style = \"text-align: right;\">1.0</td></tr><tr><td class = \"rowNumber\" style = \"font-weight: bold; text-align: right;\">3</td><td style = \"text-align: left;\">COX2</td><td style = \"text-align: right;\">0.925054</td><td style = \"text-align: right;\">0.946467</td><td style = \"text-align: right;\">1.0</td><td style = \"text-align: right;\">1.0</td><td style = \"text-align: right;\">1.0</td><td style = \"text-align: right;\">1.0</td><td style = \"text-align: right;\">1.0</td><td style = \"text-align: right;\">1.0</td><td style = \"text-align: right;\">1.0</td><td style = \"text-align: right;\">1.0</td></tr><tr><td class = \"rowNumber\" style = \"font-weight: bold; text-align: right;\">4</td><td style = \"text-align: left;\">DHFR</td><td style = \"text-align: right;\">0.981481</td><td style = \"text-align: right;\">0.982804</td><td style = \"text-align: right;\">0.996032</td><td style = \"text-align: right;\">0.998677</td><td style = \"text-align: right;\">1.0</td><td style = \"text-align: right;\">0.998677</td><td style = \"text-align: right;\">0.998677</td><td style = \"text-align: right;\">0.996032</td><td style = \"text-align: right;\">0.996032</td><td style = \"text-align: right;\">0.993386</td></tr><tr><td class = \"rowNumber\" style = \"font-weight: bold; text-align: right;\">5</td><td style = \"text-align: left;\">DD</td><td style = \"text-align: right;\">1.0</td><td style = \"text-align: right;\">1.0</td><td style = \"text-align: right;\">1.0</td><td style = \"text-align: right;\">1.0</td><td style = \"text-align: right;\">0.995756</td><td style = \"text-align: right;\">0.991511</td><td style = \"text-align: right;\">0.668081</td><td style = \"text-align: right;\">0.380306</td><td style = \"text-align: right;\">0.353141</td><td style = \"text-align: right;\">0.188455</td></tr><tr><td class = \"rowNumber\" style = \"font-weight: bold; text-align: right;\">6</td><td style = \"text-align: left;\">ENZYMES</td><td style = \"text-align: right;\">0.976667</td><td style = \"text-align: right;\">0.98</td><td style = \"text-align: right;\">0.991667</td><td style = \"text-align: right;\">0.993333</td><td style = \"text-align: right;\">0.996667</td><td style = \"text-align: right;\">0.995</td><td style = \"text-align: right;\">0.991667</td><td style = \"text-align: right;\">0.988333</td><td style = \"text-align: right;\">0.988333</td><td style = \"text-align: right;\">0.983333</td></tr><tr><td class = \"rowNumber\" style = \"font-weight: bold; text-align: right;\">7</td><td style = \"text-align: left;\">FRANKENSTEIN</td><td style = \"text-align: right;\">0.980401</td><td style = \"text-align: right;\">0.982707</td><td style = \"text-align: right;\">0.998617</td><td style = \"text-align: right;\">0.998847</td><td style = \"text-align: right;\">0.999308</td><td style = \"text-align: right;\">0.999308</td><td style = \"text-align: right;\">0.999078</td><td style = \"text-align: right;\">0.999078</td><td style = \"text-align: right;\">0.999078</td><td style = \"text-align: right;\">0.999078</td></tr><tr><td class = \"rowNumber\" style = \"font-weight: bold; text-align: right;\">8</td><td style = \"text-align: left;\">IMDB_BINARY</td><td style = \"text-align: right;\">1.0</td><td style = \"text-align: right;\">1.0</td><td style = \"text-align: right;\">1.0</td><td style = \"text-align: right;\">1.0</td><td style = \"text-align: right;\">0.999</td><td style = \"text-align: right;\">0.999</td><td style = \"text-align: right;\">0.997</td><td style = \"text-align: right;\">0.994</td><td style = \"text-align: right;\">0.994</td><td style = \"text-align: right;\">0.991</td></tr><tr><td class = \"rowNumber\" style = \"font-weight: bold; text-align: right;\">9</td><td style = \"text-align: left;\">IMDB_MULTI</td><td style = \"text-align: right;\">1.0</td><td style = \"text-align: right;\">1.0</td><td style = \"text-align: right;\">1.0</td><td style = \"text-align: right;\">1.0</td><td style = \"text-align: right;\">1.0</td><td style = \"text-align: right;\">1.0</td><td style = \"text-align: right;\">0.994667</td><td style = \"text-align: right;\">0.992667</td><td style = \"text-align: right;\">0.992667</td><td style = \"text-align: right;\">0.988667</td></tr><tr><td class = \"rowNumber\" style = \"font-weight: bold; text-align: right;\">10</td><td style = \"text-align: left;\">MSRC_9</td><td style = \"text-align: right;\">1.0</td><td style = \"text-align: right;\">1.0</td><td style = \"text-align: right;\">1.0</td><td style = \"text-align: right;\">1.0</td><td style = \"text-align: right;\">1.0</td><td style = \"text-align: right;\">1.0</td><td style = \"text-align: right;\">1.0</td><td style = \"text-align: right;\">1.0</td><td style = \"text-align: right;\">1.0</td><td style = \"text-align: right;\">1.0</td></tr><tr><td class = \"rowNumber\" style = \"font-weight: bold; text-align: right;\">11</td><td style = \"text-align: left;\">MSRC_21</td><td style = \"text-align: right;\">1.0</td><td style = \"text-align: right;\">1.0</td><td style = \"text-align: right;\">1.0</td><td style = \"text-align: right;\">1.0</td><td style = \"text-align: right;\">1.0</td><td style = \"text-align: right;\">1.0</td><td style = \"text-align: right;\">1.0</td><td style = \"text-align: right;\">1.0</td><td style = \"text-align: right;\">1.0</td><td style = \"text-align: right;\">1.0</td></tr><tr><td class = \"rowNumber\" style = \"font-weight: bold; text-align: right;\">12</td><td style = \"text-align: left;\">MSRC_21C</td><td style = \"text-align: right;\">1.0</td><td style = \"text-align: right;\">1.0</td><td style = \"text-align: right;\">1.0</td><td style = \"text-align: right;\">1.0</td><td style = \"text-align: right;\">1.0</td><td style = \"text-align: right;\">1.0</td><td style = \"text-align: right;\">1.0</td><td style = \"text-align: right;\">1.0</td><td style = \"text-align: right;\">1.0</td><td style = \"text-align: right;\">1.0</td></tr><tr><td class = \"rowNumber\" style = \"font-weight: bold; text-align: right;\">13</td><td style = \"text-align: left;\">MUTAG</td><td style = \"text-align: right;\">0.962766</td><td style = \"text-align: right;\">0.962766</td><td style = \"text-align: right;\">1.0</td><td style = \"text-align: right;\">1.0</td><td style = \"text-align: right;\">1.0</td><td style = \"text-align: right;\">1.0</td><td style = \"text-align: right;\">1.0</td><td style = \"text-align: right;\">1.0</td><td style = \"text-align: right;\">1.0</td><td style = \"text-align: right;\">1.0</td></tr><tr><td class = \"rowNumber\" style = \"font-weight: bold; text-align: right;\">14</td><td style = \"text-align: left;\">Mutagenicity</td><td style = \"text-align: right;\">0.952271</td><td style = \"text-align: right;\">0.957344</td><td style = \"text-align: right;\">0.997003</td><td style = \"text-align: right;\">0.998386</td><td style = \"text-align: right;\">0.998617</td><td style = \"text-align: right;\">0.998617</td><td style = \"text-align: right;\">0.998155</td><td style = \"text-align: right;\">0.996541</td><td style = \"text-align: right;\">0.99608</td><td style = \"text-align: right;\">0.994005</td></tr><tr><td class = \"rowNumber\" style = \"font-weight: bold; text-align: right;\">15</td><td style = \"text-align: left;\">NCI1</td><td style = \"text-align: right;\">0.948175</td><td style = \"text-align: right;\">0.954015</td><td style = \"text-align: right;\">0.991241</td><td style = \"text-align: right;\">0.993431</td><td style = \"text-align: right;\">0.995864</td><td style = \"text-align: right;\">0.99635</td><td style = \"text-align: right;\">0.995134</td><td style = \"text-align: right;\">0.993674</td><td style = \"text-align: right;\">0.993917</td><td style = \"text-align: right;\">0.993187</td></tr><tr><td class = \"rowNumber\" style = \"font-weight: bold; text-align: right;\">16</td><td style = \"text-align: left;\">NCI109</td><td style = \"text-align: right;\">0.948389</td><td style = \"text-align: right;\">0.950569</td><td style = \"text-align: right;\">0.991519</td><td style = \"text-align: right;\">0.994427</td><td style = \"text-align: right;\">0.997092</td><td style = \"text-align: right;\">0.997335</td><td style = \"text-align: right;\">0.996123</td><td style = \"text-align: right;\">0.994427</td><td style = \"text-align: right;\">0.994912</td><td style = \"text-align: right;\">0.9937</td></tr><tr><td class = \"rowNumber\" style = \"font-weight: bold; text-align: right;\">17</td><td style = \"text-align: left;\">PROTEINS</td><td style = \"text-align: right;\">0.972147</td><td style = \"text-align: right;\">0.973046</td><td style = \"text-align: right;\">0.995508</td><td style = \"text-align: right;\">0.998203</td><td style = \"text-align: right;\">0.998203</td><td style = \"text-align: right;\">0.998203</td><td style = \"text-align: right;\">0.992812</td><td style = \"text-align: right;\">0.985624</td><td style = \"text-align: right;\">0.986523</td><td style = \"text-align: right;\">0.978437</td></tr><tr><td class = \"rowNumber\" style = \"font-weight: bold; text-align: right;\">18</td><td style = \"text-align: left;\">PTC_FM</td><td style = \"text-align: right;\">0.988539</td><td style = \"text-align: right;\">0.988539</td><td style = \"text-align: right;\">0.994269</td><td style = \"text-align: right;\">1.0</td><td style = \"text-align: right;\">1.0</td><td style = \"text-align: right;\">1.0</td><td style = \"text-align: right;\">1.0</td><td style = \"text-align: right;\">1.0</td><td style = \"text-align: right;\">1.0</td><td style = \"text-align: right;\">1.0</td></tr><tr><td class = \"rowNumber\" style = \"font-weight: bold; text-align: right;\">19</td><td style = \"text-align: left;\">PTC_FR</td><td style = \"text-align: right;\">0.988604</td><td style = \"text-align: right;\">0.988604</td><td style = \"text-align: right;\">0.994302</td><td style = \"text-align: right;\">1.0</td><td style = \"text-align: right;\">1.0</td><td style = \"text-align: right;\">1.0</td><td style = \"text-align: right;\">1.0</td><td style = \"text-align: right;\">1.0</td><td style = \"text-align: right;\">1.0</td><td style = \"text-align: right;\">1.0</td></tr><tr><td class = \"rowNumber\" style = \"font-weight: bold; text-align: right;\">20</td><td style = \"text-align: left;\">PTC_MM</td><td style = \"text-align: right;\">0.985119</td><td style = \"text-align: right;\">0.985119</td><td style = \"text-align: right;\">0.991071</td><td style = \"text-align: right;\">0.997024</td><td style = \"text-align: right;\">1.0</td><td style = \"text-align: right;\">1.0</td><td style = \"text-align: right;\">1.0</td><td style = \"text-align: right;\">1.0</td><td style = \"text-align: right;\">1.0</td><td style = \"text-align: right;\">1.0</td></tr><tr><td class = \"rowNumber\" style = \"font-weight: bold; text-align: right;\">21</td><td style = \"text-align: left;\">PTC_MR</td><td style = \"text-align: right;\">0.985465</td><td style = \"text-align: right;\">0.985465</td><td style = \"text-align: right;\">0.991279</td><td style = \"text-align: right;\">0.997093</td><td style = \"text-align: right;\">1.0</td><td style = \"text-align: right;\">1.0</td><td style = \"text-align: right;\">1.0</td><td style = \"text-align: right;\">1.0</td><td style = \"text-align: right;\">1.0</td><td style = \"text-align: right;\">1.0</td></tr><tr><td class = \"rowNumber\" style = \"font-weight: bold; text-align: right;\">22</td><td style = \"text-align: left;\">REDDIT_BINARY</td><td style = \"text-align: right;\">0.9995</td><td style = \"text-align: right;\">0.9995</td><td style = \"text-align: right;\">0.998</td><td style = \"text-align: right;\">0.9935</td><td style = \"text-align: right;\">0.944</td><td style = \"text-align: right;\">0.932</td><td style = \"text-align: right;\">0.8465</td><td style = \"text-align: right;\">0.8175</td><td style = \"text-align: right;\">0.813</td><td style = \"text-align: right;\">0.782</td></tr><tr><td class = \"rowNumber\" style = \"font-weight: bold; text-align: right;\">23</td><td style = \"text-align: left;\">SYNTHETICnew</td><td style = \"text-align: right;\">1.0</td><td style = \"text-align: right;\">1.0</td><td style = \"text-align: right;\">1.0</td><td style = \"text-align: right;\">1.0</td><td style = \"text-align: right;\">1.0</td><td style = \"text-align: right;\">1.0</td><td style = \"text-align: right;\">1.0</td><td style = \"text-align: right;\">1.0</td><td style = \"text-align: right;\">1.0</td><td style = \"text-align: right;\">1.0</td></tr><tr><td class = \"rowNumber\" style = \"font-weight: bold; text-align: right;\">24</td><td style = \"text-align: left;\">Synthie</td><td style = \"text-align: right;\">1.0</td><td style = \"text-align: right;\">1.0</td><td style = \"text-align: right;\">1.0</td><td style = \"text-align: right;\">1.0</td><td style = \"text-align: right;\">1.0</td><td style = \"text-align: right;\">1.0</td><td style = \"text-align: right;\">1.0</td><td style = \"text-align: right;\">1.0</td><td style = \"text-align: right;\">1.0</td><td style = \"text-align: right;\">1.0</td></tr><tr><td class = \"rowNumber\" style = \"font-weight: bold; text-align: right;\">25</td><td style = \"text-align: left;\">Tox21_AR</td><td style = \"text-align: right;\">0.974044</td><td style = \"text-align: right;\">0.975539</td><td style = \"text-align: right;\">0.996582</td><td style = \"text-align: right;\">0.99765</td><td style = \"text-align: right;\">0.998291</td><td style = \"text-align: right;\">0.998291</td><td style = \"text-align: right;\">0.998505</td><td style = \"text-align: right;\">0.998398</td><td style = \"text-align: right;\">0.998398</td><td style = \"text-align: right;\">0.998184</td></tr><tr><td class = \"rowNumber\" style = \"font-weight: bold; text-align: right;\">26</td><td style = \"text-align: left;\">Tox21_AhR</td><td style = \"text-align: right;\">0.972947</td><td style = \"text-align: right;\">0.97466</td><td style = \"text-align: right;\">0.996817</td><td style = \"text-align: right;\">0.997919</td><td style = \"text-align: right;\">0.998531</td><td style = \"text-align: right;\">0.998531</td><td style = \"text-align: right;\">0.998653</td><td style = \"text-align: right;\">0.998653</td><td style = \"text-align: right;\">0.998653</td><td style = \"text-align: right;\">0.998531</td></tr></tbody></table></div>"
      ],
      "text/latex": [
       "\\begin{tabular}{r|ccccc}\n",
       "\t& Datasets & 0.047632445456408767 & 0.050724755360278095 & 0.19918206223757995 & \\\\\n",
       "\t\\hline\n",
       "\t& String & Float64 & Float64 & Float64 & \\\\\n",
       "\t\\hline\n",
       "\t1 & AIDS & 0.981 & 0.981 & 0.9975 & $\\dots$ \\\\\n",
       "\t2 & BZR & 0.997531 & 1.0 & 1.0 & $\\dots$ \\\\\n",
       "\t3 & COX2 & 0.925054 & 0.946467 & 1.0 & $\\dots$ \\\\\n",
       "\t4 & DHFR & 0.981481 & 0.982804 & 0.996032 & $\\dots$ \\\\\n",
       "\t5 & DD & 1.0 & 1.0 & 1.0 & $\\dots$ \\\\\n",
       "\t6 & ENZYMES & 0.976667 & 0.98 & 0.991667 & $\\dots$ \\\\\n",
       "\t7 & FRANKENSTEIN & 0.980401 & 0.982707 & 0.998617 & $\\dots$ \\\\\n",
       "\t8 & IMDB\\_BINARY & 1.0 & 1.0 & 1.0 & $\\dots$ \\\\\n",
       "\t9 & IMDB\\_MULTI & 1.0 & 1.0 & 1.0 & $\\dots$ \\\\\n",
       "\t10 & MSRC\\_9 & 1.0 & 1.0 & 1.0 & $\\dots$ \\\\\n",
       "\t11 & MSRC\\_21 & 1.0 & 1.0 & 1.0 & $\\dots$ \\\\\n",
       "\t12 & MSRC\\_21C & 1.0 & 1.0 & 1.0 & $\\dots$ \\\\\n",
       "\t13 & MUTAG & 0.962766 & 0.962766 & 1.0 & $\\dots$ \\\\\n",
       "\t14 & Mutagenicity & 0.952271 & 0.957344 & 0.997003 & $\\dots$ \\\\\n",
       "\t15 & NCI1 & 0.948175 & 0.954015 & 0.991241 & $\\dots$ \\\\\n",
       "\t16 & NCI109 & 0.948389 & 0.950569 & 0.991519 & $\\dots$ \\\\\n",
       "\t17 & PROTEINS & 0.972147 & 0.973046 & 0.995508 & $\\dots$ \\\\\n",
       "\t18 & PTC\\_FM & 0.988539 & 0.988539 & 0.994269 & $\\dots$ \\\\\n",
       "\t19 & PTC\\_FR & 0.988604 & 0.988604 & 0.994302 & $\\dots$ \\\\\n",
       "\t20 & PTC\\_MM & 0.985119 & 0.985119 & 0.991071 & $\\dots$ \\\\\n",
       "\t21 & PTC\\_MR & 0.985465 & 0.985465 & 0.991279 & $\\dots$ \\\\\n",
       "\t22 & REDDIT\\_BINARY & 0.9995 & 0.9995 & 0.998 & $\\dots$ \\\\\n",
       "\t23 & SYNTHETICnew & 1.0 & 1.0 & 1.0 & $\\dots$ \\\\\n",
       "\t24 & Synthie & 1.0 & 1.0 & 1.0 & $\\dots$ \\\\\n",
       "\t$\\dots$ & $\\dots$ & $\\dots$ & $\\dots$ & $\\dots$ &  \\\\\n",
       "\\end{tabular}\n"
      ],
      "text/plain": [
       "\u001b[1m26×11 DataFrame\u001b[0m\n",
       "\u001b[1m Row \u001b[0m│\u001b[1m Datasets      \u001b[0m\u001b[1m 0.047632445456408767 \u001b[0m\u001b[1m 0.050724755360278095 \u001b[0m\u001b[1m 0.1991820622\u001b[0m ⋯\n",
       "     │\u001b[90m String        \u001b[0m\u001b[90m Float64              \u001b[0m\u001b[90m Float64              \u001b[0m\u001b[90m Float64     \u001b[0m ⋯\n",
       "─────┼──────────────────────────────────────────────────────────────────────────\n",
       "   1 │ AIDS                       0.981                 0.981                0 ⋯\n",
       "   2 │ BZR                        0.997531              1.0                  1\n",
       "   3 │ COX2                       0.925054              0.946467             1\n",
       "   4 │ DHFR                       0.981481              0.982804             0\n",
       "   5 │ DD                         1.0                   1.0                  1 ⋯\n",
       "   6 │ ENZYMES                    0.976667              0.98                 0\n",
       "   7 │ FRANKENSTEIN               0.980401              0.982707             0\n",
       "   8 │ IMDB_BINARY                1.0                   1.0                  1\n",
       "  ⋮  │       ⋮                 ⋮                     ⋮                     ⋮   ⋱\n",
       "  20 │ PTC_MM                     0.985119              0.985119             0 ⋯\n",
       "  21 │ PTC_MR                     0.985465              0.985465             0\n",
       "  22 │ REDDIT_BINARY              0.9995                0.9995               0\n",
       "  23 │ SYNTHETICnew               1.0                   1.0                  1\n",
       "  24 │ Synthie                    1.0                   1.0                  1 ⋯\n",
       "  25 │ Tox21_AR                   0.974044              0.975539             0\n",
       "  26 │ Tox21_AhR                  0.972947              0.97466              0\n",
       "\u001b[36m                                                   8 columns and 11 rows omitted\u001b[0m"
      ]
     },
     "metadata": {},
     "output_type": "display_data"
    }
   ],
   "source": [
    "df = DataFrame()\n",
    "df[!, \"Datasets\"] = datasets_name\n",
    "for i in 1:length(γs)\n",
    "    df[!, string(γs[i])] = data[1:end, i]\n",
    "end\n",
    "df"
   ]
  },
  {
   "cell_type": "code",
   "execution_count": 206,
   "metadata": {},
   "outputs": [
    {
     "name": "stdout",
     "output_type": "stream",
     "text": [
      "\n"
     ]
    }
   ],
   "source": [
    "setprecision(BigFloat, 5)\n",
    "heatmap(γs, datasets_name, data,  \n",
    "    clim=(0, 1),\n",
    "    c=cgrad(:RdYlGn, 10, categorical = true),\n",
    "    xticks= [1 for j in 1:10],\n",
    "    yticks = :all,\n",
    "    yflip=true,\n",
    "    axis=true,\n",
    "    framestyle = :box,\n",
    "    dpi=1000)\n",
    "\n",
    "title!(\"WL-completeness ratio\")\n",
    "xlabel!(\"γs\")\n",
    "ylabel!(\"Datasets\")\n",
    "annotate!([(j/10.15-0.01, i-0.45, text(round(data[i,j], digits=2), 6, \"Computer Modern\", :black)) for i in 1:26 for j in 1:10])\n",
    "annotate!([(j/10.15-0.01, i-0.25, text(round(γs[j], digits=3), 8, \"Arial\", :black)) for i in 27:27 for j in 1:10])\n",
    "Plots.savefig(\"results\\\\5.completeness_rate.png\")\n",
    "println()"
   ]
  },
  {
   "cell_type": "code",
   "execution_count": 97,
   "metadata": {},
   "outputs": [],
   "source": [
    "using DelimitedFiles \n",
    "writedlm(\"results\\\\5.completeness_rate.csv\", Iterators.flatten(([names(df)], eachrow(df))), ',')"
   ]
  }
 ],
 "metadata": {
  "kernelspec": {
   "display_name": "Julia 1.10.2",
   "language": "julia",
   "name": "julia-1.10"
  },
  "language_info": {
   "file_extension": ".jl",
   "mimetype": "application/julia",
   "name": "julia",
   "version": "1.10.2"
  }
 },
 "nbformat": 4,
 "nbformat_minor": 2
}
